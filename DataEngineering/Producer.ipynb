{
 "cells": [
  {
   "cell_type": "code",
   "execution_count": null,
   "id": "8bcd745d",
   "metadata": {},
   "outputs": [],
   "source": [
    "import socket\n",
    "import time\n",
    "import numpy as np\n",
    "import random\n",
    "import requests\n",
    "import json\n",
    "import pandas as pd\n",
    "\n",
    "# Директория сохранения\n",
    "path = './source/'\n",
    "\n",
    "# Функция для получения данных о ценах криптовалюты\n",
    "# Пометка: взял только 10 элементов для более удобного мониторинга\n",
    "def save_crypto_data(): \n",
    "    try:\n",
    "        responce = requests.get('https://api.binance.com/api/v3/ticker/price')\n",
    "        pd.DataFrame(responce.json()[:10]).to_csv(f'{path}{str(int(time.time()))}.csv', sep=';', index=False)\n",
    "    except Exception as e:\n",
    "        print('Exception: ', e)\n",
    "    \n",
    "\n",
    "# Цикл сохранения данных о криптовалюте с шагом в 10 сек в директорию\n",
    "while True:\n",
    "    try:\n",
    "        save_crypto_data()\n",
    "    except Exception as e:\n",
    "        print('Exception: ', e) \n",
    "        break       \n",
    "    finally:\n",
    "        time.sleep(10)\n",
    "\n",
    "sock.close() "
   ]
  },
  {
   "cell_type": "code",
   "execution_count": null,
   "id": "aa081bb2",
   "metadata": {},
   "outputs": [],
   "source": []
  }
 ],
 "metadata": {
  "kernelspec": {
   "display_name": "Python 3",
   "language": "python",
   "name": "python3"
  },
  "language_info": {
   "codemirror_mode": {
    "name": "ipython",
    "version": 3
   },
   "file_extension": ".py",
   "mimetype": "text/x-python",
   "name": "python",
   "nbconvert_exporter": "python",
   "pygments_lexer": "ipython3",
   "version": "3.8.5"
  }
 },
 "nbformat": 4,
 "nbformat_minor": 5
}
